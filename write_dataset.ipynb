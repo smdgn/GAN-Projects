{
 "cells": [
  {
   "cell_type": "code",
   "execution_count": null,
   "metadata": {},
   "outputs": [],
   "source": [
    "# imports\n",
    "from zipfile import ZipFile\n",
    "from urllib.request import urlretrieve\n",
    "import os\n",
    "import pickle\n",
    "import matplotlib.pyplot as plt\n",
    "import numpy as np\n"
   ]
  },
  {
   "cell_type": "code",
   "execution_count": null,
   "metadata": {},
   "outputs": [],
   "source": [
    "# download-paths\n",
    "urls = [\"https://image-net.org/data/downsample/Imagenet64_train_part1.zip\", \n",
    "        \"https://image-net.org/data/downsample/Imagenet64_train_part2.zip\",\n",
    "        \"https://image-net.org/data/downsample/Imagenet64_val.zip\"]\n",
    "\n",
    "root = \"Data/\""
   ]
  },
  {
   "cell_type": "code",
   "execution_count": null,
   "metadata": {},
   "outputs": [],
   "source": [
    "# download data into root, unpack and delete zips\n",
    "for url in urls:\n",
    "    fileending = url.rsplit('/',1)[-1]\n",
    "    print(\"Start dowloading {}\".format(fileending))\n",
    "    urlretrieve(url, root + fileending)\n",
    "    print (\"Start unpacking\")\n",
    "    with ZipFile(root + fileending, 'r') as zipObj:\n",
    "        zipObj.extractall(root)\n",
    "    print (\"Finished unpacking\")\n",
    "    print (\"Delete Zip\")\n",
    "    try:\n",
    "        os.remove(root + fileending)\n",
    "        print(\"Delete Succesfull\")\n",
    "    except OSError as e:\n",
    "        print (\"Error: %s - %s.\" % (e.filename, e.strerror))             "
   ]
  },
  {
   "cell_type": "code",
   "execution_count": null,
   "metadata": {},
   "outputs": [],
   "source": [
    "# read routines\n",
    "def unpickle(file):\n",
    "    with open(file, 'rb') as fo:\n",
    "        dict = pickle.load(fo)\n",
    "    return dict\n",
    "\n",
    "def load_data(input_file, size):\n",
    "\n",
    "    d = unpickle(input_file)\n",
    "    x = d['data']\n",
    "    y = d['labels']\n",
    "    \n",
    "    dim = x.shape[1] // 3\n",
    "    x = np.dstack((x[:, :dim], x[:, dim:2*dim], x[:, 2*dim:]))\n",
    "    x = x.reshape((x.shape[0], size[0], size[1], 3))\n",
    "\n",
    "    return x, y"
   ]
  },
  {
   "cell_type": "code",
   "execution_count": null,
   "metadata": {},
   "outputs": [],
   "source": [
    "# write data into tfrecords\n",
    "from src import utils\n",
    "import tensorflow as tf\n",
    "\n",
    "write_root = \"TFRecords/ImageNet64_Train/imagenet64train_\"\n",
    "filepaths = sorted(os.listdir(root))\n",
    "filepaths_train = sorted(filepaths[:-1], key=lambda x: int(x.rsplit('_',1)[-1]))\n",
    "filepaths_val = filepaths[-1]\n",
    "\n",
    "with open('map_clsloc.txt', 'r', encoding='utf8') as f:\n",
    "    classes = f.readlines()\n",
    "    classes = [c.split()[-1] for c in classes]\n",
    "\n",
    "for nr,filepath in enumerate(filepaths_train):\n",
    "    x, y = load_data(root + filepath, (64,64))\n",
    "    y = [i-1 for i in y]\n",
    "    #x = ((x / np.float32(255)) * 2) - 1.0\n",
    "    write_path = write_root + str(nr) + \".tfrecord\"\n",
    "    writer = utils.TfPartWriter(write_path, x.shape[0])\n",
    "    \n",
    "    for frame, label in zip(x,y):\n",
    "        datadict = {\n",
    "                'frame': utils.bytes_feature([frame.tostring()]),\n",
    "                'class' : utils.bytes_feature([classes[label].encode()]),\n",
    "                'nr': utils.int_feature([label])\n",
    "                }\n",
    "\n",
    "        example = tf.train.Example(features = tf.train.Features(feature = datadict))\n",
    "        writer.write_part(example)\n",
    "    "
   ]
  },
  {
   "cell_type": "code",
   "execution_count": null,
   "metadata": {},
   "outputs": [],
   "source": [
    "# Necessary imports\n",
    "import sys\n",
    "sys.path.append('src/')\n",
    "import utils, models, layers\n",
    "import os\n",
    "import pickle\n",
    "import numpy as np\n",
    "\n",
    "reader = utils.DataReader(64, \"TFRecords/ImageNet64_Train\")\n",
    "for nr, batch in enumerate(reader.data):\n",
    "    print(nr)\n",
    "    \n"
   ]
  },
  {
   "cell_type": "code",
   "execution_count": null,
   "metadata": {},
   "outputs": [],
   "source": []
  }
 ],
 "metadata": {
  "kernelspec": {
   "display_name": "Python 3",
   "language": "python",
   "name": "python3"
  },
  "language_info": {
   "codemirror_mode": {
    "name": "ipython",
    "version": 3
   },
   "file_extension": ".py",
   "mimetype": "text/x-python",
   "name": "python",
   "nbconvert_exporter": "python",
   "pygments_lexer": "ipython3",
   "version": "3.6.9"
  }
 },
 "nbformat": 4,
 "nbformat_minor": 2
}
