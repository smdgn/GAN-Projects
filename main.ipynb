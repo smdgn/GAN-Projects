{
 "cells": [
  {
   "cell_type": "code",
   "execution_count": null,
   "metadata": {},
   "outputs": [],
   "source": [
    "# Necessary imports\n",
    "import sys\n",
    "sys.path.append('src/')\n",
    "import utils, models, layers, metrics\n",
    "import os\n",
    "import pickle\n",
    "import numpy as np"
   ]
  },
  {
   "cell_type": "code",
   "execution_count": null,
   "metadata": {},
   "outputs": [],
   "source": [
    "# Hyperparameters:\n",
    "# Training\n",
    "batch_size = 16\n",
    "epochs = 500\n",
    "lr_g = 0.0001\n",
    "lr_d = 0.0004\n",
    "\n",
    "# Loss-Function\n",
    "lambda_gp = 10\n",
    "n_disc = 1\n",
    "noise_stddev = 0.0001\n",
    "\n",
    "# Output and build related\n",
    "z_dim = 100\n",
    "h_dim = 128\n",
    "w_dim = 128\n",
    "c_dim = 3\n",
    "scale = 4 # image gets downsampled 16 (2^4) times before prediction, dense embedding is then 4*4*channels\n",
    "channels = 1024\n",
    "n_samples = 20\n",
    "\n",
    "# CGAN\n",
    "n_classes = 120\n",
    "embedding_dim = 50\n",
    "\n",
    "# SAGAN\n",
    "c_scale = 8"
   ]
  },
  {
   "cell_type": "code",
   "execution_count": null,
   "metadata": {},
   "outputs": [],
   "source": [
    "# build the model\n",
    "model = models.WGANGP(z_dim = z_dim, h_dim=h_dim, w_dim=w_dim, c_dim=c_dim, channels=channels, scale=scale, \n",
    "                         epochs=epochs, batch_size=batch_size, lr_g=lr_g, lr_d=lr_d,\n",
    "                         lambda_gp=lambda_gp, noise_stddev=noise_stddev, n_disc=n_disc, n_samples=n_samples)"
   ]
  },
  {
   "cell_type": "code",
   "execution_count": null,
   "metadata": {},
   "outputs": [],
   "source": [
    "model = models.CWGANGP(z_dim = z_dim, h_dim=h_dim, w_dim=w_dim, c_dim=c_dim, channels=channels, scale=scale, \n",
    "                         n_classes = n_classes, embedding_dim = 50, epochs=epochs, batch_size=batch_size, lr_g=lr_g, lr_d=lr_d,\n",
    "                         lambda_gp=lambda_gp, noise_stddev=noise_stddev, n_disc=n_disc, n_samples=n_samples)"
   ]
  },
  {
   "cell_type": "code",
   "execution_count": null,
   "metadata": {},
   "outputs": [],
   "source": [
    "model = models.CSAWGANGP(z_dim = z_dim, h_dim=h_dim, w_dim=w_dim, c_dim=c_dim, channels=channels, scale=scale, \n",
    "                         n_classes = n_classes, embedding_dim = 50, c_scale=c_scale, epochs=epochs, batch_size=batch_size, lr_g=lr_g, lr_d=lr_d,\n",
    "                         lambda_gp=lambda_gp, noise_stddev=noise_stddev, n_disc=n_disc, n_samples=n_samples)"
   ]
  },
  {
   "cell_type": "code",
   "execution_count": null,
   "metadata": {},
   "outputs": [],
   "source": [
    "model = models.ProjSNGAN(z_dim = z_dim, h_dim=h_dim, w_dim=w_dim, c_dim=c_dim, channels=channels, scale=scale, \n",
    "                         n_classes = n_classes, embedding_dim = 50, c_scale=c_scale, epochs=epochs, batch_size=batch_size, lr_g=lr_g, lr_d=lr_d,\n",
    "                         lambda_gp=lambda_gp, noise_stddev=noise_stddev, n_disc=n_disc, n_samples=n_samples)"
   ]
  },
  {
   "cell_type": "code",
   "execution_count": null,
   "metadata": {},
   "outputs": [],
   "source": [
    "!pip install pydot\n",
    "!pip install pydotplus\n",
    "!pip install graphviz"
   ]
  },
  {
   "cell_type": "code",
   "execution_count": null,
   "metadata": {
    "scrolled": false
   },
   "outputs": [],
   "source": [
    "# read images\n",
    "reader = utils.DataReader(batch_size, \"TFRecords/ImageNet64_Train\")\n",
    "model.train(reader.data, log_n = 50, verbose=50) \n",
    "    "
   ]
  },
  {
   "cell_type": "code",
   "execution_count": null,
   "metadata": {},
   "outputs": [],
   "source": [
    "import tensorflow as tf\n",
    "tf.keras.utils.plot_model(model.d, show_shapes=True, dpi=64)"
   ]
  },
  {
   "cell_type": "code",
   "execution_count": null,
   "metadata": {},
   "outputs": [],
   "source": [
    "tf.keras.utils.plot_model(model.g, show_shapes=True, dpi=64)"
   ]
  },
  {
   "cell_type": "code",
   "execution_count": null,
   "metadata": {},
   "outputs": [],
   "source": [
    "!pip install tensorflow-datasets"
   ]
  },
  {
   "cell_type": "code",
   "execution_count": null,
   "metadata": {},
   "outputs": [],
   "source": [
    "!pip install tensorflow-addons"
   ]
  },
  {
   "cell_type": "code",
   "execution_count": null,
   "metadata": {},
   "outputs": [],
   "source": [
    "import tensorflow_datasets as tfds\n",
    "\n",
    "ds_train, ds_info = tfds.load('mnist', split='train', shuffle_files=True, as_supervised=True, with_info=True)\n"
   ]
  },
  {
   "cell_type": "code",
   "execution_count": null,
   "metadata": {},
   "outputs": [],
   "source": [
    "import tensorflow_datasets as tfds\n",
    "\n",
    "ds_train, ds_info = tfds.load('stanford_dogs', split='train+test', shuffle_files=True, as_supervised=True, with_info=True)"
   ]
  },
  {
   "cell_type": "code",
   "execution_count": null,
   "metadata": {},
   "outputs": [],
   "source": [
    "import tensorflow_datasets as tfds\n",
    "\n",
    "ds_train, ds_info = tfds.load('fashion_mnist', split='train+test', shuffle_files=True, as_supervised=True, with_info=True)"
   ]
  },
  {
   "cell_type": "code",
   "execution_count": null,
   "metadata": {},
   "outputs": [],
   "source": [
    "import tensorflow_datasets as tfds\n",
    "\n",
    "ds_train, ds_info = tfds.load('cifar10', split='train+test', shuffle_files=True, as_supervised=True, with_info=True)"
   ]
  },
  {
   "cell_type": "code",
   "execution_count": null,
   "metadata": {},
   "outputs": [],
   "source": [
    "import tensorflow_datasets as tfds\n",
    "\n",
    "ds_train, ds_info = tfds.load('stl10', split='train+test', shuffle_files=True, as_supervised=True, with_info=True)"
   ]
  },
  {
   "cell_type": "code",
   "execution_count": null,
   "metadata": {},
   "outputs": [],
   "source": [
    "\n",
    "import tensorflow_datasets as tfds\n",
    "\n",
    "ds_train, ds_info = tfds.load('celeb_a', split='train', shuffle_files=True)\n"
   ]
  },
  {
   "cell_type": "code",
   "execution_count": null,
   "metadata": {},
   "outputs": [],
   "source": [
    "import tensorflow as tf\n",
    "def normalize_img(image, label):\n",
    "    \"\"\"Normalizes images: `uint8` -> `float32`.\"\"\"\n",
    "    #image = tf.image.resize(image, [w_dim, h_dim])\n",
    "    image = (tf.cast(image, tf.float32) / 128.) - 1.\n",
    "    #image_list = []\n",
    "    #image_list.append(image)\n",
    "    #for i in range(1,scale+1):\n",
    "        #image = tf.image.resize(image, [w_dim//pow(2,i), h_dim//pow(2,i)])\n",
    "        #image_list.append(image)\n",
    "    image = tf.image.resize(image, [w_dim, h_dim])\n",
    "    #return (tf.cast(image, tf.float32) / 128.) - 1., label\n",
    "    #return image_list[0],image_list[1], image_list[2],image_list[3],image_list[4],label\n",
    "    return image, label\n",
    "\n",
    "ds_train = ds_train.map(\n",
    "    normalize_img, num_parallel_calls=tf.data.experimental.AUTOTUNE)\n",
    "ds_train = ds_train.cache()\n",
    "ds_train = ds_train.shuffle(ds_info.splits['train'].num_examples)\n",
    "ds_train = ds_train.batch(batch_size, drop_remainder=True)\n",
    "ds_train = ds_train.prefetch(tf.data.experimental.AUTOTUNE)\n",
    "\n",
    "model.train(ds_train, verbose= 50 ,log_n = 50) "
   ]
  },
  {
   "cell_type": "code",
   "execution_count": null,
   "metadata": {},
   "outputs": [],
   "source": [
    "\n"
   ]
  },
  {
   "cell_type": "code",
   "execution_count": null,
   "metadata": {},
   "outputs": [],
   "source": []
  }
 ],
 "metadata": {
  "kernelspec": {
   "display_name": "Python 3",
   "language": "python",
   "name": "python3"
  },
  "language_info": {
   "codemirror_mode": {
    "name": "ipython",
    "version": 3
   },
   "file_extension": ".py",
   "mimetype": "text/x-python",
   "name": "python",
   "nbconvert_exporter": "python",
   "pygments_lexer": "ipython3",
   "version": "3.6.9"
  }
 },
 "nbformat": 4,
 "nbformat_minor": 2
}
